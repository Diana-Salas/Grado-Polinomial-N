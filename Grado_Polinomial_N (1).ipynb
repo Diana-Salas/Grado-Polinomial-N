{
  "nbformat": 4,
  "nbformat_minor": 0,
  "metadata": {
    "colab": {
      "name": "Grado-Polinomial N.ipynb",
      "provenance": []
    },
    "kernelspec": {
      "name": "python3",
      "display_name": "Python 3"
    },
    "accelerator": "GPU"
  },
  "cells": [
    {
      "cell_type": "code",
      "metadata": {
        "id": "iEC683X3_6tk",
        "colab_type": "code",
        "colab": {
          "base_uri": "https://localhost:8080/",
          "height": 68
        },
        "outputId": "c15e7b03-5304-463f-9eb6-ddacd6fd73d5"
      },
      "source": [
        "import numpy as np\n",
        "\n",
        "def polyfit2(x,y,n):\n",
        "  \n",
        "  def inv(A):\n",
        "    return np.linalg.inv(A) #Matriz inversa de la matriz A\t\n",
        "  def trans(A):\n",
        "    return A.getT() #Transpuesta de la matriz A\n",
        "  def prod (A,B):\n",
        "    return np.dot (A,B) #Producto punto entre los vectores A y B\n",
        "\n",
        "  xlen = len(x) #Calcula la longitud del vector x\n",
        "  ylen = len(y) #Calcula la longitud del vector y\n",
        "  one = np.ones ((xlen,n+1),dtype=int) #Matriz de unos de de dimensiones (xlen,n+1)\n",
        "  c1=one[:,[1]] #Seleccionamos solo la columna de 1 de la matriz one\n",
        "  xT=np.matrix(x) #Convierte los datos a una matriz numpy\n",
        "  yT=np.matrix(y) #Convierte los datos a una matriz numpy\n",
        "  c2=xT.getT()\n",
        "  c3=np.power(c2,2) #Eleva al cuadrado los elementos de la matriz c2\n",
        "\n",
        "  A=np.hstack([c1,c2,c3]) #Agrupa las columnas c1,c2,c3 en una matriz A\n",
        "  ajuste= prod(prod(inv(prod(trans(A),A)),trans(A)),trans(yT)) #La función prod realiza los productos de las matrices que recibe como argumentos\n",
        "  print (ajuste)\n",
        "\n",
        "x=[1.0,-2.0,3.0,4.0] #Revisen el ejemplo 2 de la sección 6.2 del libro de Grossman Stanley “Aplicaciones de algebra lineal”\n",
        "y=[4.0,5.0,-1.0,1.0]\n",
        "polyfit2(x,y,2) #El resultado es el polinomio Y=-0.0378x^2 -0.8106x + 3.75 (interpreten los datos del vector según el grado de los coeficientes)\n",
        "\n"
      ],
      "execution_count": 14,
      "outputs": [
        {
          "output_type": "stream",
          "text": [
            "[[ 3.75      ]\n",
            " [-0.81060606]\n",
            " [-0.03787879]]\n"
          ],
          "name": "stdout"
        }
      ]
    }
  ]
}